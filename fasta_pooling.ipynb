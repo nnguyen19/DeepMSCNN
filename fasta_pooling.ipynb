{
 "cells": [
  {
   "cell_type": "code",
   "execution_count": 1,
   "id": "9cdaec8b-9164-493e-af1c-765a2c30bf44",
   "metadata": {},
   "outputs": [],
   "source": [
    "import numpy as np\n",
    "import pandas as pd\n",
    "import re\n",
    "import glob\n",
    "import os\n",
    "import sys"
   ]
  },
  {
   "cell_type": "code",
   "execution_count": null,
   "id": "a62a245d-73c2-47f2-8e6d-6971ae5b54da",
   "metadata": {},
   "outputs": [],
   "source": []
  },
  {
   "cell_type": "code",
   "execution_count": 2,
   "id": "6b8dc21a-4b31-471f-83f4-f9235e4901ae",
   "metadata": {},
   "outputs": [],
   "source": [
    "ref = \"SKGEELFTGVVPILVELDGDVNGHKFSVSGEGEGDATYGKLTLKFICTTGKLPVPWPTLVTTLSYGVQCFSRYPDHMKQHDFFKSAMPEGYVQERTIFFKDDGNYKTRAEVKFEGDTLVNRIELKGIDFKEDGNILGHKLEYNYNSHNVYIMADKQKNGIKVNFKIRHNIEDGSVQLADHYQQNTPIGDGPVLLPDNHYLSTQSALSKDPNEKRDHMVLLEFVTAAGITHGMDELYK\"\n",
    "avgfp = pd.read_csv(\"avgfp.tsv\", sep = \"\\t\")"
   ]
  },
  {
   "cell_type": "code",
   "execution_count": 8,
   "id": "ac0ceee2-3fce-4357-bbdf-080285a6dfa6",
   "metadata": {},
   "outputs": [],
   "source": [
    "\n",
    "for mut in avgfp.variant[:20000]:\n",
    "    with open(\"./20K_input_fasta/\"+mut+\".fasta\", \"w\") as f:\n",
    "        muts = mut.split(\",\")\n",
    "        #f.write(\">\"+mut+\"\\n\")\n",
    "        if len(muts)>1:\n",
    "\n",
    "            variant = ref\n",
    "            for m in muts:\n",
    "\n",
    "                pos = int(re.findall(r'\\d+', m)[0])\n",
    "\n",
    "\n",
    "                variant= variant[:pos] + m[-1]+variant[pos+1:]\n",
    "            f.write(variant+\"\\n\")\n",
    "        else:\n",
    "            pos = int(re.findall(r'\\d+', muts[0])[0])\n",
    "\n",
    "            variant = ref\n",
    "            variant= variant[:pos] + muts[0][-1]+variant[pos+1:]\n",
    "            f.write(variant+\"\\n\") \n"
   ]
  },
  {
   "cell_type": "code",
   "execution_count": 6,
   "id": "b747e166-2185-46c5-b7ae-207545cf259b",
   "metadata": {},
   "outputs": [
    {
     "data": {
      "text/plain": [
       "0                               A108D\n",
       "1       A108D,N144D,I186V,M231T,L234P\n",
       "2             A108D,Y141N,H146L,E220G\n",
       "3                               A108G\n",
       "4             A108G,K138M,R166C,L234P\n",
       "                    ...              \n",
       "9995                      F128I,T228S\n",
       "9996                      F128I,V148I\n",
       "9997                            F128L\n",
       "9998                      F128L,A152V\n",
       "9999          F128L,D131V,Y198C,A224T\n",
       "Name: variant, Length: 10000, dtype: object"
      ]
     },
     "execution_count": 6,
     "metadata": {},
     "output_type": "execute_result"
    }
   ],
   "source": [
    "avgfp.variant[:10000]"
   ]
  },
  {
   "cell_type": "markdown",
   "id": "83f3f60c-480b-44d9-bcc1-37ce3dcb073f",
   "metadata": {},
   "source": [
    "## Extract pssm info"
   ]
  },
  {
   "cell_type": "code",
   "execution_count": 2,
   "id": "3bc50099-4f3f-46a5-80a8-8d111d6f5e84",
   "metadata": {},
   "outputs": [],
   "source": [
    "test = np.loadtxt(\"10K_out_pssm/A108D.fasta.pssm\",\n",
    "                 skiprows=3,usecols=np.arange(2,22), max_rows=238)\n",
    "test_str = np.genfromtxt(\"10K_out_pssm/A108D.fasta.pssm\",\n",
    "                      skip_header=3, usecols =[1],max_rows = 237, dtype='str')\n",
    "aas = [\"A\", \"C\", \"D\", \"E\", \"F\", \"G\", \"H\", \"I\", \"K\", \"L\",\n",
    "         \"M\", \"N\", \"P\", \"Q\", \"R\", \"S\", \"T\", \"V\", \"W\", \"Y\"]"
   ]
  },
  {
   "cell_type": "code",
   "execution_count": 90,
   "id": "2b4dccd7-0c49-497b-a050-a76b4a7d45bc",
   "metadata": {},
   "outputs": [],
   "source": [
    "def transform_pssm_400(filepath):\n",
    "    pssm = np.loadtxt(filepath, skiprows=3,usecols=np.arange(2,22), max_rows=238)\n",
    "    seq = np.genfromtxt(filepath, skip_header=3, usecols =[1],max_rows = 237, dtype='str')\n",
    "    pssm_transformed = np.zeros((20,20))\n",
    "    for i in range(20):\n",
    "        residues = np.where(test_str==aas[i])[0]\n",
    "        pssm_transformed[i] = pssm[residues,:].sum(axis = 0)\n",
    "    pssm_transformed = pssm_transformed/len(seq)\n",
    "    max_sc = np.max(pssm_transformed)\n",
    "    min_sc = np.min(pssm_transformed)\n",
    "    pssm_transformed = (pssm_transformed-min_sc)/(max_sc-min_sc)\n",
    "    return pssm_transformed\n",
    "        "
   ]
  },
  {
   "cell_type": "code",
   "execution_count": 93,
   "id": "d85022ef-d37a-40fd-a0f4-ed53d9f6d830",
   "metadata": {},
   "outputs": [
    {
     "data": {
      "text/plain": [
       "(20, 20)"
      ]
     },
     "execution_count": 93,
     "metadata": {},
     "output_type": "execute_result"
    }
   ],
   "source": [
    "transform_pssm_400(\"10K_out_pssm/A108D,Y141N,H146L,E220G.fasta.pssm\").shape"
   ]
  },
  {
   "cell_type": "code",
   "execution_count": 108,
   "id": "a2b21325-435f-41cf-a896-32404cf28078",
   "metadata": {},
   "outputs": [],
   "source": [
    "all_fp = glob.glob(\"./10K_out_pssm/*\")\n",
    "for i in range(len(f[:3])):\n",
    "    fname = os.path.basename(all_fp[i]).split(\".\")[0]\n",
    "    trans_pssm = transform_pssm_400(f[i])\n",
    "    np.save(\"./10K_feat_extract/\"+fname+\".npy\",trans_pssm)\n",
    "        "
   ]
  },
  {
   "cell_type": "code",
   "execution_count": 107,
   "id": "e46ec8d5-3d48-43d8-ab2b-eac5b187b632",
   "metadata": {},
   "outputs": [
    {
     "data": {
      "text/plain": [
       "['D115G,S145G,I186N,S203Y,L205P', 'fasta', 'pssm']"
      ]
     },
     "execution_count": 107,
     "metadata": {},
     "output_type": "execute_result"
    }
   ],
   "source": [
    "os.path.basename(all_fp[i]).split(\".\")"
   ]
  },
  {
   "cell_type": "code",
   "execution_count": 101,
   "id": "1221bed2-57a9-46f9-85cd-e98402124ef1",
   "metadata": {},
   "outputs": [
    {
     "data": {
      "text/plain": [
       "'D74G,I121F.fasta.pssm'"
      ]
     },
     "execution_count": 101,
     "metadata": {},
     "output_type": "execute_result"
    }
   ],
   "source": [
    "os.path.basename(f[1])"
   ]
  },
  {
   "cell_type": "code",
   "execution_count": 102,
   "id": "747e4942-5344-4e02-a383-b67856816e6c",
   "metadata": {},
   "outputs": [
    {
     "data": {
      "text/plain": [
       "8387"
      ]
     },
     "execution_count": 102,
     "metadata": {},
     "output_type": "execute_result"
    }
   ],
   "source": [
    "len(f)"
   ]
  },
  {
   "cell_type": "code",
   "execution_count": null,
   "id": "acd892c5-c388-4e39-a04e-2a30f4d14742",
   "metadata": {},
   "outputs": [],
   "source": []
  },
  {
   "cell_type": "code",
   "execution_count": null,
   "id": "1fb9ae79-1c9b-44d8-ae45-ea5a7ea3121b",
   "metadata": {},
   "outputs": [],
   "source": []
  },
  {
   "cell_type": "code",
   "execution_count": null,
   "id": "4ccdd8d3-262a-441e-9775-46192ed6a72a",
   "metadata": {},
   "outputs": [],
   "source": []
  },
  {
   "cell_type": "code",
   "execution_count": null,
   "id": "4d81a9e8-1e06-43b9-9dc9-495da57e22d5",
   "metadata": {},
   "outputs": [],
   "source": []
  },
  {
   "cell_type": "code",
   "execution_count": null,
   "id": "7a4b6f85-1b56-49e9-b791-64097557c897",
   "metadata": {},
   "outputs": [],
   "source": []
  },
  {
   "cell_type": "code",
   "execution_count": null,
   "id": "2cf7d703-3f15-4fd2-9d72-510cbc43e302",
   "metadata": {},
   "outputs": [],
   "source": []
  },
  {
   "cell_type": "code",
   "execution_count": null,
   "id": "93ff1f76-c7cf-4bcf-8878-9b9d9dc3bddc",
   "metadata": {},
   "outputs": [],
   "source": []
  }
 ],
 "metadata": {
  "kernelspec": {
   "display_name": "Python 3 (ipykernel)",
   "language": "python",
   "name": "python3"
  },
  "language_info": {
   "codemirror_mode": {
    "name": "ipython",
    "version": 3
   },
   "file_extension": ".py",
   "mimetype": "text/x-python",
   "name": "python",
   "nbconvert_exporter": "python",
   "pygments_lexer": "ipython3",
   "version": "3.7.10"
  }
 },
 "nbformat": 4,
 "nbformat_minor": 5
}
